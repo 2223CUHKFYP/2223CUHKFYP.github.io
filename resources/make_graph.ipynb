{
 "cells": [
  {
   "cell_type": "code",
   "execution_count": 1,
   "metadata": {},
   "outputs": [],
   "source": [
    "import pandas as pd\n",
    "from matplotlib import pyplot as plt"
   ]
  },
  {
   "cell_type": "code",
   "execution_count": null,
   "metadata": {},
   "outputs": [],
   "source": []
  },
  {
   "cell_type": "code",
   "execution_count": 11,
   "metadata": {},
   "outputs": [
    {
     "data": {
      "text/html": [
       "<div>\n",
       "<style scoped>\n",
       "    .dataframe tbody tr th:only-of-type {\n",
       "        vertical-align: middle;\n",
       "    }\n",
       "\n",
       "    .dataframe tbody tr th {\n",
       "        vertical-align: top;\n",
       "    }\n",
       "\n",
       "    .dataframe thead th {\n",
       "        text-align: right;\n",
       "    }\n",
       "</style>\n",
       "<table border=\"1\" class=\"dataframe\">\n",
       "  <thead>\n",
       "    <tr style=\"text-align: right;\">\n",
       "      <th></th>\n",
       "      <th>Model</th>\n",
       "      <th>Dataset</th>\n",
       "      <th>mMOTSA</th>\n",
       "      <th>mMOTSP</th>\n",
       "      <th>mIDF1</th>\n",
       "    </tr>\n",
       "  </thead>\n",
       "  <tbody>\n",
       "    <tr>\n",
       "      <th>0</th>\n",
       "      <td>PCAN</td>\n",
       "      <td>Normal</td>\n",
       "      <td>27.8</td>\n",
       "      <td>66.9</td>\n",
       "      <td>44.9</td>\n",
       "    </tr>\n",
       "    <tr>\n",
       "      <th>1</th>\n",
       "      <td>UNICORN</td>\n",
       "      <td>Normal</td>\n",
       "      <td>28.1</td>\n",
       "      <td>67.2</td>\n",
       "      <td>44.5</td>\n",
       "    </tr>\n",
       "  </tbody>\n",
       "</table>\n",
       "</div>"
      ],
      "text/plain": [
       "     Model Dataset  mMOTSA  mMOTSP  mIDF1\n",
       "0     PCAN  Normal    27.8    66.9   44.9\n",
       "1  UNICORN  Normal    28.1    67.2   44.5"
      ]
     },
     "execution_count": 11,
     "metadata": {},
     "output_type": "execute_result"
    }
   ],
   "source": [
    "df_norm = pd.read_excel(\"mots_result.xlsx\", sheet_name=\"normal\")\n",
    "df_haze = pd.read_excel(\"mots_result.xlsx\", sheet_name=\"haze\")\n",
    "df_haze\n",
    "df_norm"
   ]
  },
  {
   "cell_type": "code",
   "execution_count": 52,
   "metadata": {},
   "outputs": [
    {
     "name": "stdout",
     "output_type": "stream",
     "text": [
      "  Model  Dataset mMOTSA  Norm  Difference\n",
      "0  PCAN     0.01  23.0   27.8        -4.8\n",
      "1  PCAN     0.02  22.2   27.8        -5.6\n",
      "2  PCAN     0.06  13.7   27.8       -14.1\n"
     ]
    },
    {
     "data": {
      "image/png": "[encoded data removed]",
      "text/plain": [
       "<Figure size 640x480 with 1 Axes>"
      ]
     },
     "metadata": {},
     "output_type": "display_data"
    }
   ],
   "source": [
    "def comparision_graph(df,df_norm, model, metric):\n",
    "    target_df = df[df[\"Model\"]==model][[\"Model\", \"Dataset\", metric]]\n",
    "    target_df[metric] = target_df[metric].apply(lambda x:x.split(\"(\")[0])\n",
    "    norm_value = df_norm[df_norm[\"Model\"]==model][metric][0]\n",
    "    target_df[\"Norm\"] = norm_value\n",
    "    target_df[\"Difference\"] = target_df[metric].astype(float) - target_df[\"Norm\"]\n",
    "    print(target_df)\n",
    "    plt.bar(target_df[\"Dataset\"], target_df[metric], width=0.01)\n",
    "    plt.xticks(target_df[\"Dataset\"])\n",
    "    plt.ylabel(metric)\n",
    "    ax = plt.gca()\n",
    "    plt.ylim(10, 23.1)\n",
    "    #ax.invert_yaxis()\n",
    "    plt.xlabel(\"Beta Value\")\n",
    "    plt.show()\n",
    "comparision_graph(df_haze, df_norm, \"PCAN\", \"mMOTSA\")"
   ]
  },
  {
   "cell_type": "code",
   "execution_count": 24,
   "metadata": {},
   "outputs": [
    {
     "data": {
      "text/plain": [
       "27.8"
      ]
     },
     "execution_count": 24,
     "metadata": {},
     "output_type": "execute_result"
    }
   ],
   "source": [
    "df_norm[df_norm[\"Model\"]==\"PCAN\"][\"mMOTSA\"][0]"
   ]
  },
  {
   "cell_type": "code",
   "execution_count": null,
   "metadata": {},
   "outputs": [],
   "source": []
  }
 ],
 "metadata": {
  "kernelspec": {
   "display_name": "Python 3 (ipykernel)",
   "language": "python",
   "name": "python3"
  },
  "language_info": {
   "codemirror_mode": {
    "name": "ipython",
    "version": 3
   },
   "file_extension": ".py",
   "mimetype": "text/x-python",
   "name": "python",
   "nbconvert_exporter": "python",
   "pygments_lexer": "ipython3",
   "version": "3.8.3"
  }
 },
 "nbformat": 4,
 "nbformat_minor": 4
}
